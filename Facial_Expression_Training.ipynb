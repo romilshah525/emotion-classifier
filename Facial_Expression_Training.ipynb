{
 "cells": [
  {
   "cell_type": "code",
   "execution_count": 1,
   "metadata": {
    "colab": {},
    "colab_type": "code",
    "id": "wvGxjjeV-9Ls"
   },
   "outputs": [
    {
     "name": "stdout",
     "output_type": "stream",
     "text": [
      "Tensorflow version: 2.1.0\n"
     ]
    }
   ],
   "source": [
    "import numpy as np\n",
    "import seaborn as sns\n",
    "import matplotlib.pyplot as plt\n",
    "import utils\n",
    "import os\n",
    "%matplotlib inline\n",
    "\n",
    "from tensorflow.keras.preprocessing.image import ImageDataGenerator\n",
    "from tensorflow.keras.layers import Dense, Input, Dropout,Flatten, Conv2D\n",
    "from tensorflow.keras.layers import BatchNormalization, Activation, MaxPooling2D\n",
    "from tensorflow.keras.models import Model, Sequential\n",
    "from tensorflow.keras.optimizers import Adam\n",
    "from tensorflow.keras.callbacks import ModelCheckpoint, ReduceLROnPlateau\n",
    "from tensorflow.keras.utils import plot_model\n",
    "\n",
    "# from IPython.display import SVG, Image\n",
    "# from livelossplot import PlotLossesKerasTF\n",
    "import tensorflow as tf\n",
    "print(\"Tensorflow version:\", tf.__version__)"
   ]
  },
  {
   "cell_type": "code",
   "execution_count": 2,
   "metadata": {},
   "outputs": [],
   "source": [
    "# utils.datasets.fer.plot_example_images(plt).show()"
   ]
  },
  {
   "cell_type": "code",
   "execution_count": 3,
   "metadata": {
    "colab": {
     "base_uri": "https://localhost:8080/",
     "height": 139
    },
    "colab_type": "code",
    "id": "TalL_1Qr-9Qz",
    "outputId": "f5fb9b05-976a-4979-ea23-33c3d87efb94"
   },
   "outputs": [
    {
     "name": "stdout",
     "output_type": "stream",
     "text": [
      "4097 fear images\n",
      "436 disgust images\n",
      "3171 surprise images\n",
      "4965 neutral images\n",
      "4830 sad images\n",
      "7214 happy images\n",
      "3995 angry images\n"
     ]
    }
   ],
   "source": [
    "for expression in os.listdir(\"train/\"):\n",
    "    print(str(len(os.listdir(\"train/\" + expression))) + \" \" + expression + \" images\")"
   ]
  },
  {
   "cell_type": "code",
   "execution_count": 4,
   "metadata": {
    "colab": {
     "base_uri": "https://localhost:8080/",
     "height": 52
    },
    "colab_type": "code",
    "id": "iri8ehFw-9Tj",
    "outputId": "1cff3826-c0a9-41ff-a61b-5a677de101ae"
   },
   "outputs": [
    {
     "name": "stdout",
     "output_type": "stream",
     "text": [
      "Found 28708 images belonging to 7 classes.\n",
      "Found 7178 images belonging to 7 classes.\n"
     ]
    }
   ],
   "source": [
    "img_size = 48\n",
    "batch_size = 64\n",
    "\n",
    "datagen_train = ImageDataGenerator(horizontal_flip=True)\n",
    "\n",
    "train_generator = datagen_train.flow_from_directory(\"train/\",\n",
    "                                                    target_size=(img_size,img_size),\n",
    "                                                    color_mode=\"grayscale\",\n",
    "                                                    batch_size=batch_size,\n",
    "                                                    class_mode='categorical',\n",
    "                                                    shuffle=True)\n",
    "\n",
    "datagen_validation = ImageDataGenerator(horizontal_flip=True)\n",
    "validation_generator = datagen_validation.flow_from_directory(\"test/\",\n",
    "                                                    target_size=(img_size,img_size),\n",
    "                                                    color_mode=\"grayscale\",\n",
    "                                                    batch_size=batch_size,\n",
    "                                                    class_mode='categorical',\n",
    "                                                    shuffle=False)"
   ]
  },
  {
   "cell_type": "code",
   "execution_count": 5,
   "metadata": {},
   "outputs": [
    {
     "name": "stdout",
     "output_type": "stream",
     "text": [
      "Model: \"sequential\"\n",
      "_________________________________________________________________\n",
      "Layer (type)                 Output Shape              Param #   \n",
      "=================================================================\n",
      "conv2d (Conv2D)              (None, 48, 48, 64)        640       \n",
      "_________________________________________________________________\n",
      "batch_normalization (BatchNo (None, 48, 48, 64)        256       \n",
      "_________________________________________________________________\n",
      "activation (Activation)      (None, 48, 48, 64)        0         \n",
      "_________________________________________________________________\n",
      "max_pooling2d (MaxPooling2D) (None, 24, 24, 64)        0         \n",
      "_________________________________________________________________\n",
      "dropout (Dropout)            (None, 24, 24, 64)        0         \n",
      "_________________________________________________________________\n",
      "conv2d_1 (Conv2D)            (None, 24, 24, 128)       204928    \n",
      "_________________________________________________________________\n",
      "batch_normalization_1 (Batch (None, 24, 24, 128)       512       \n",
      "_________________________________________________________________\n",
      "activation_1 (Activation)    (None, 24, 24, 128)       0         \n",
      "_________________________________________________________________\n",
      "max_pooling2d_1 (MaxPooling2 (None, 12, 12, 128)       0         \n",
      "_________________________________________________________________\n",
      "dropout_1 (Dropout)          (None, 12, 12, 128)       0         \n",
      "_________________________________________________________________\n",
      "conv2d_2 (Conv2D)            (None, 12, 12, 512)       590336    \n",
      "_________________________________________________________________\n",
      "batch_normalization_2 (Batch (None, 12, 12, 512)       2048      \n",
      "_________________________________________________________________\n",
      "activation_2 (Activation)    (None, 12, 12, 512)       0         \n",
      "_________________________________________________________________\n",
      "max_pooling2d_2 (MaxPooling2 (None, 6, 6, 512)         0         \n",
      "_________________________________________________________________\n",
      "dropout_2 (Dropout)          (None, 6, 6, 512)         0         \n",
      "_________________________________________________________________\n",
      "conv2d_3 (Conv2D)            (None, 6, 6, 512)         2359808   \n",
      "_________________________________________________________________\n",
      "batch_normalization_3 (Batch (None, 6, 6, 512)         2048      \n",
      "_________________________________________________________________\n",
      "activation_3 (Activation)    (None, 6, 6, 512)         0         \n",
      "_________________________________________________________________\n",
      "max_pooling2d_3 (MaxPooling2 (None, 3, 3, 512)         0         \n",
      "_________________________________________________________________\n",
      "dropout_3 (Dropout)          (None, 3, 3, 512)         0         \n",
      "_________________________________________________________________\n",
      "flatten (Flatten)            (None, 4608)              0         \n",
      "_________________________________________________________________\n",
      "dense (Dense)                (None, 256)               1179904   \n",
      "_________________________________________________________________\n",
      "batch_normalization_4 (Batch (None, 256)               1024      \n",
      "_________________________________________________________________\n",
      "activation_4 (Activation)    (None, 256)               0         \n",
      "_________________________________________________________________\n",
      "dropout_4 (Dropout)          (None, 256)               0         \n",
      "_________________________________________________________________\n",
      "dense_1 (Dense)              (None, 512)               131584    \n",
      "_________________________________________________________________\n",
      "batch_normalization_5 (Batch (None, 512)               2048      \n",
      "_________________________________________________________________\n",
      "activation_5 (Activation)    (None, 512)               0         \n",
      "_________________________________________________________________\n",
      "dropout_5 (Dropout)          (None, 512)               0         \n",
      "_________________________________________________________________\n",
      "dense_2 (Dense)              (None, 7)                 3591      \n",
      "=================================================================\n",
      "Total params: 4,478,727\n",
      "Trainable params: 4,474,759\n",
      "Non-trainable params: 3,968\n",
      "_________________________________________________________________\n"
     ]
    }
   ],
   "source": [
    "# Initialising the CNN\n",
    "model = Sequential()\n",
    "\n",
    "# 1 - Convolution\n",
    "model.add(Conv2D(64,(3,3), padding='same', input_shape=(48, 48,1)))\n",
    "model.add(BatchNormalization())\n",
    "model.add(Activation('relu'))\n",
    "model.add(MaxPooling2D(pool_size=(2, 2)))\n",
    "model.add(Dropout(0.25))\n",
    "\n",
    "# 2nd Convolution layer\n",
    "model.add(Conv2D(128,(5,5), padding='same'))\n",
    "model.add(BatchNormalization())\n",
    "model.add(Activation('relu'))\n",
    "model.add(MaxPooling2D(pool_size=(2, 2)))\n",
    "model.add(Dropout(0.25))\n",
    "\n",
    "# 3rd Convolution layer\n",
    "model.add(Conv2D(512,(3,3), padding='same'))\n",
    "model.add(BatchNormalization())\n",
    "model.add(Activation('relu'))\n",
    "model.add(MaxPooling2D(pool_size=(2, 2)))\n",
    "model.add(Dropout(0.25))\n",
    "\n",
    "# 4th Convolution layer\n",
    "model.add(Conv2D(512,(3,3), padding='same'))\n",
    "model.add(BatchNormalization())\n",
    "model.add(Activation('relu'))\n",
    "model.add(MaxPooling2D(pool_size=(2, 2)))\n",
    "model.add(Dropout(0.25))\n",
    "\n",
    "# Flattening\n",
    "model.add(Flatten())\n",
    "\n",
    "# Fully connected layer 1st layer\n",
    "model.add(Dense(256))\n",
    "model.add(BatchNormalization())\n",
    "model.add(Activation('relu'))\n",
    "model.add(Dropout(0.25))\n",
    "\n",
    "# Fully connected layer 2nd layer\n",
    "model.add(Dense(512))\n",
    "model.add(BatchNormalization())\n",
    "model.add(Activation('relu'))\n",
    "model.add(Dropout(0.25))\n",
    "\n",
    "model.add(Dense(7, activation='softmax'))\n",
    "\n",
    "opt = Adam(lr=0.0005)\n",
    "model.compile(optimizer=opt, loss='categorical_crossentropy', metrics=['accuracy'])\n",
    "model.summary()"
   ]
  },
  {
   "cell_type": "code",
   "execution_count": 7,
   "metadata": {},
   "outputs": [
    {
     "name": "stdout",
     "output_type": "stream",
     "text": [
      "WARNING:tensorflow:sample_weight modes were coerced from\n",
      "  ...\n",
      "    to  \n",
      "  ['...']\n",
      "WARNING:tensorflow:sample_weight modes were coerced from\n",
      "  ...\n",
      "    to  \n",
      "  ['...']\n",
      "Train for 448 steps, validate for 112 steps\n",
      "Epoch 1/15\n",
      "447/448 [============================>.] - ETA: 0s - loss: 1.7774 - accuracy: 0.3153\n",
      "Epoch 00001: saving model to model_weights.h5\n",
      "448/448 [==============================] - 476s 1s/step - loss: 1.7773 - accuracy: 0.3153 - val_loss: 1.8488 - val_accuracy: 0.3269\n",
      "Epoch 2/15\n",
      "447/448 [============================>.] - ETA: 0s - loss: 1.4702 - accuracy: 0.4339\n",
      "Epoch 00002: saving model to model_weights.h5\n",
      "448/448 [==============================] - 459s 1s/step - loss: 1.4699 - accuracy: 0.4341 - val_loss: 1.4109 - val_accuracy: 0.4826\n",
      "Epoch 3/15\n",
      "447/448 [============================>.] - ETA: 0s - loss: 1.3364 - accuracy: 0.4866\n",
      "Epoch 00003: saving model to model_weights.h5\n",
      "448/448 [==============================] - 458s 1s/step - loss: 1.3366 - accuracy: 0.4865 - val_loss: 1.2335 - val_accuracy: 0.5290\n",
      "Epoch 4/15\n",
      "447/448 [============================>.] - ETA: 0s - loss: 1.2388 - accuracy: 0.5257\n",
      "Epoch 00004: saving model to model_weights.h5\n",
      "448/448 [==============================] - 459s 1s/step - loss: 1.2382 - accuracy: 0.5259 - val_loss: 1.2506 - val_accuracy: 0.5247\n",
      "Epoch 5/15\n",
      "447/448 [============================>.] - ETA: 0s - loss: 1.1907 - accuracy: 0.5490\n",
      "Epoch 00005: saving model to model_weights.h5\n",
      "448/448 [==============================] - 458s 1s/step - loss: 1.1905 - accuracy: 0.5491 - val_loss: 1.4066 - val_accuracy: 0.4418\n",
      "Epoch 6/15\n",
      "447/448 [============================>.] - ETA: 0s - loss: 1.1137 - accuracy: 0.5759\n",
      "Epoch 00006: saving model to model_weights.h5\n",
      "448/448 [==============================] - 458s 1s/step - loss: 1.1136 - accuracy: 0.5759 - val_loss: 1.0847 - val_accuracy: 0.5914\n",
      "Epoch 7/15\n",
      "447/448 [============================>.] - ETA: 0s - loss: 1.0892 - accuracy: 0.5870\n",
      "Epoch 00007: saving model to model_weights.h5\n",
      "448/448 [==============================] - 459s 1s/step - loss: 1.0892 - accuracy: 0.5871 - val_loss: 1.0787 - val_accuracy: 0.5851\n",
      "Epoch 8/15\n",
      "447/448 [============================>.] - ETA: 0s - loss: 1.0805 - accuracy: 0.5881\n",
      "Epoch 00008: saving model to model_weights.h5\n",
      "448/448 [==============================] - 462s 1s/step - loss: 1.0809 - accuracy: 0.5878 - val_loss: 1.0623 - val_accuracy: 0.6004\n",
      "Epoch 9/15\n",
      "447/448 [============================>.] - ETA: 0s - loss: 1.0637 - accuracy: 0.5985\n",
      "Epoch 00009: saving model to model_weights.h5\n",
      "448/448 [==============================] - 460s 1s/step - loss: 1.0637 - accuracy: 0.5984 - val_loss: 1.0517 - val_accuracy: 0.6003\n",
      "Epoch 10/15\n",
      "447/448 [============================>.] - ETA: 0s - loss: 1.0577 - accuracy: 0.6002\n",
      "Epoch 00010: saving model to model_weights.h5\n",
      "448/448 [==============================] - 458s 1s/step - loss: 1.0571 - accuracy: 0.6005 - val_loss: 1.0521 - val_accuracy: 0.6007\n",
      "Epoch 11/15\n",
      "447/448 [============================>.] - ETA: 0s - loss: 1.0405 - accuracy: 0.6027\n",
      "Epoch 00011: saving model to model_weights.h5\n",
      "448/448 [==============================] - 459s 1s/step - loss: 1.0407 - accuracy: 0.6026 - val_loss: 1.0423 - val_accuracy: 0.6048\n",
      "Epoch 12/15\n",
      "447/448 [============================>.] - ETA: 0s - loss: 1.0340 - accuracy: 0.6091\n",
      "Epoch 00012: saving model to model_weights.h5\n",
      "448/448 [==============================] - 458s 1s/step - loss: 1.0342 - accuracy: 0.6090 - val_loss: 1.0312 - val_accuracy: 0.6147\n",
      "Epoch 13/15\n",
      "447/448 [============================>.] - ETA: 0s - loss: 1.0253 - accuracy: 0.6107\n",
      "Epoch 00013: saving model to model_weights.h5\n",
      "448/448 [==============================] - 463s 1s/step - loss: 1.0256 - accuracy: 0.6106 - val_loss: 1.0373 - val_accuracy: 0.6140\n",
      "Epoch 14/15\n",
      "447/448 [============================>.] - ETA: 1s - loss: 1.0173 - accuracy: 0.6133\n",
      "Epoch 00014: saving model to model_weights.h5\n",
      "448/448 [==============================] - 498s 1s/step - loss: 1.0168 - accuracy: 0.6136 - val_loss: 1.0558 - val_accuracy: 0.6074\n",
      "Epoch 15/15\n",
      "447/448 [============================>.] - ETA: 1s - loss: 0.9992 - accuracy: 0.6242\n",
      "Epoch 00015: saving model to model_weights.h5\n",
      "448/448 [==============================] - 510s 1s/step - loss: 0.9993 - accuracy: 0.6241 - val_loss: 1.0213 - val_accuracy: 0.6157\n",
      "CPU times: user 7h 21min 26s, sys: 4min 34s, total: 7h 26min 1s\n",
      "Wall time: 1h 56min 34s\n"
     ]
    }
   ],
   "source": [
    "%%time\n",
    "\n",
    "epochs = 15\n",
    "steps_per_epoch = train_generator.n//train_generator.batch_size\n",
    "validation_steps = validation_generator.n//validation_generator.batch_size\n",
    "\n",
    "reduce_lr = ReduceLROnPlateau(monitor='val_loss', factor=0.1,\n",
    "                              patience=2, min_lr=0.00001, mode='auto')\n",
    "checkpoint = ModelCheckpoint(\"model_weights.h5\", monitor='val_accuracy',\n",
    "                             save_weights_only=True, mode='max', verbose=1)\n",
    "# callbacks = [PlotLossesKerasTF(), checkpoint, reduce_lr]\n",
    "callbacks = [checkpoint, reduce_lr]\n",
    "\n",
    "history = model.fit(\n",
    "    x=train_generator,\n",
    "    steps_per_epoch=steps_per_epoch,\n",
    "    epochs=epochs,\n",
    "    validation_data = validation_generator,\n",
    "    validation_steps = validation_steps,\n",
    "    callbacks=callbacks\n",
    ")"
   ]
  },
  {
   "cell_type": "code",
   "execution_count": 8,
   "metadata": {},
   "outputs": [
    {
     "name": "stdout",
     "output_type": "stream",
     "text": [
      "WARNING:tensorflow:sample_weight modes were coerced from\n",
      "  ...\n",
      "    to  \n",
      "  ['...']\n",
      "WARNING:tensorflow:sample_weight modes were coerced from\n",
      "  ...\n",
      "    to  \n",
      "  ['...']\n",
      "Train for 448 steps, validate for 112 steps\n",
      "Epoch 1/5\n",
      "447/448 [============================>.] - ETA: 0s - loss: 0.9979 - accuracy: 0.6244\n",
      "Epoch 00001: saving model to model_weights.h5\n",
      "448/448 [==============================] - 464s 1s/step - loss: 0.9977 - accuracy: 0.6245 - val_loss: 1.0179 - val_accuracy: 0.6210\n",
      "Epoch 2/5\n",
      "447/448 [============================>.] - ETA: 0s - loss: 0.9949 - accuracy: 0.6239\n",
      "Epoch 00002: saving model to model_weights.h5\n",
      "448/448 [==============================] - 467s 1s/step - loss: 0.9946 - accuracy: 0.6239 - val_loss: 1.0195 - val_accuracy: 0.6187\n",
      "Epoch 3/5\n",
      "447/448 [============================>.] - ETA: 0s - loss: 0.9873 - accuracy: 0.6269\n",
      "Epoch 00003: saving model to model_weights.h5\n",
      "448/448 [==============================] - 462s 1s/step - loss: 0.9876 - accuracy: 0.6269 - val_loss: 1.0128 - val_accuracy: 0.6200\n",
      "Epoch 4/5\n",
      "447/448 [============================>.] - ETA: 0s - loss: 0.9897 - accuracy: 0.6252\n",
      "Epoch 00004: saving model to model_weights.h5\n",
      "448/448 [==============================] - 459s 1s/step - loss: 0.9896 - accuracy: 0.6251 - val_loss: 1.0147 - val_accuracy: 0.6225\n",
      "Epoch 5/5\n",
      "447/448 [============================>.] - ETA: 0s - loss: 0.9896 - accuracy: 0.6242\n",
      "Epoch 00005: saving model to model_weights.h5\n",
      "448/448 [==============================] - 459s 1s/step - loss: 0.9898 - accuracy: 0.6239 - val_loss: 1.0143 - val_accuracy: 0.6191\n"
     ]
    }
   ],
   "source": [
    "\n",
    "history2 = model.fit(\n",
    "    x=train_generator,\n",
    "    steps_per_epoch=steps_per_epoch,\n",
    "    epochs=5,\n",
    "    validation_data = validation_generator,\n",
    "    validation_steps = validation_steps,\n",
    "    callbacks=callbacks\n",
    ")"
   ]
  },
  {
   "cell_type": "code",
   "execution_count": 9,
   "metadata": {
    "colab": {},
    "colab_type": "code",
    "id": "cHw8ir7CVAE0"
   },
   "outputs": [],
   "source": [
    "model_json = model.to_json()\n",
    "with open(\"model.json\", \"w\") as json_file:\n",
    "    json_file.write(model_json)"
   ]
  },
  {
   "cell_type": "code",
   "execution_count": 12,
   "metadata": {},
   "outputs": [],
   "source": [
    "hist = model.history"
   ]
  },
  {
   "cell_type": "code",
   "execution_count": 14,
   "metadata": {},
   "outputs": [
    {
     "data": {
      "text/plain": [
       "tensorflow.python.keras.callbacks.History"
      ]
     },
     "execution_count": 14,
     "metadata": {},
     "output_type": "execute_result"
    }
   ],
   "source": [
    "type(hist)"
   ]
  },
  {
   "cell_type": "code",
   "execution_count": 17,
   "metadata": {},
   "outputs": [
    {
     "data": {
      "text/plain": [
       "{'loss': [0.9978095370037499,\n",
       "  0.9946622824539038,\n",
       "  0.9876460846851132,\n",
       "  0.9896396360838817,\n",
       "  0.989812497402799],\n",
       " 'accuracy': [0.6244938, 0.6239003, 0.6268678, 0.6251222, 0.62386537],\n",
       " 'val_loss': [1.0178840069898538,\n",
       "  1.0195487761603934,\n",
       "  1.0128184631466866,\n",
       "  1.014721879735589,\n",
       "  1.014251524183367],\n",
       " 'val_accuracy': [0.6209542, 0.6187221, 0.61997765, 0.62248886, 0.6191406],\n",
       " 'lr': [1e-05, 1e-05, 1e-05, 1e-05, 1e-05]}"
      ]
     },
     "execution_count": 17,
     "metadata": {},
     "output_type": "execute_result"
    }
   ],
   "source": [
    "hist.history"
   ]
  },
  {
   "cell_type": "code",
   "execution_count": 18,
   "metadata": {},
   "outputs": [
    {
     "data": {
      "text/plain": [
       "[<matplotlib.lines.Line2D at 0x7f3958cf6410>]"
      ]
     },
     "execution_count": 18,
     "metadata": {},
     "output_type": "execute_result"
    },
    {
     "data": {
      "image/png": "[encoded data removed]",
      "text/plain": [
       "<Figure size 432x288 with 1 Axes>"
      ]
     },
     "metadata": {
      "needs_background": "light"
     },
     "output_type": "display_data"
    }
   ],
   "source": [
    "plt.plot(hist.history[\"accuracy\"], )"
   ]
  },
  {
   "cell_type": "code",
   "execution_count": 19,
   "metadata": {},
   "outputs": [
    {
     "data": {
      "text/plain": [
       "array([1, 2, 3, 4, 5])"
      ]
     },
     "execution_count": 19,
     "metadata": {},
     "output_type": "execute_result"
    }
   ],
   "source": [
    "np.arange(1, len(hist.history[\"accuracy\"])+1)"
   ]
  },
  {
   "cell_type": "code",
   "execution_count": 20,
   "metadata": {},
   "outputs": [
    {
     "data": {
      "text/plain": [
       "{'loss': [1.7773603655376042,\n",
       "  1.46973608860572,\n",
       "  1.3363527963987494,\n",
       "  1.2380901628192487,\n",
       "  1.1904163472463658,\n",
       "  1.1135845670252602,\n",
       "  1.08896188512226,\n",
       "  1.080906589776007,\n",
       "  1.063617032094635,\n",
       "  1.0570658210968276,\n",
       "  1.0407477983997582,\n",
       "  1.03430794545882,\n",
       "  1.0256170499359758,\n",
       "  1.0166909639736474,\n",
       "  0.9993176908403814],\n",
       " 'accuracy': [0.3153191,\n",
       "  0.43408743,\n",
       "  0.4864544,\n",
       "  0.5259391,\n",
       "  0.5490853,\n",
       "  0.5758972,\n",
       "  0.58706886,\n",
       "  0.5878369,\n",
       "  0.59844995,\n",
       "  0.6005097,\n",
       "  0.6026044,\n",
       "  0.60895824,\n",
       "  0.61063397,\n",
       "  0.61360145,\n",
       "  0.62410975],\n",
       " 'val_loss': [1.848794131406716,\n",
       "  1.4109151001487459,\n",
       "  1.2335128185472317,\n",
       "  1.2505968143897397,\n",
       "  1.4066318252256937,\n",
       "  1.0847446351711238,\n",
       "  1.078721757978201,\n",
       "  1.0623112725360053,\n",
       "  1.0517331609236342,\n",
       "  1.0521486577178751,\n",
       "  1.0423014789287532,\n",
       "  1.0311523008027248,\n",
       "  1.037330772860774,\n",
       "  1.055788938222187,\n",
       "  1.021256233299417],\n",
       " 'val_accuracy': [0.32686943,\n",
       "  0.48256138,\n",
       "  0.52901787,\n",
       "  0.5246931,\n",
       "  0.44182476,\n",
       "  0.59137833,\n",
       "  0.5851005,\n",
       "  0.6004464,\n",
       "  0.6003069,\n",
       "  0.6007255,\n",
       "  0.6047712,\n",
       "  0.61467636,\n",
       "  0.6139788,\n",
       "  0.6074219,\n",
       "  0.6156529],\n",
       " 'lr': [0.0005,\n",
       "  0.0005,\n",
       "  0.0005,\n",
       "  0.0005,\n",
       "  0.0005,\n",
       "  5.0000002e-05,\n",
       "  5.0000002e-05,\n",
       "  5.0000002e-05,\n",
       "  5.0000002e-05,\n",
       "  5.0000002e-05,\n",
       "  5.0000002e-05,\n",
       "  5.0000002e-05,\n",
       "  5.0000002e-05,\n",
       "  5.0000002e-05,\n",
       "  1e-05]}"
      ]
     },
     "execution_count": 20,
     "metadata": {},
     "output_type": "execute_result"
    }
   ],
   "source": [
    "history.history"
   ]
  },
  {
   "cell_type": "code",
   "execution_count": null,
   "metadata": {},
   "outputs": [],
   "source": []
  }
 ],
 "metadata": {
  "accelerator": "GPU",
  "colab": {
   "collapsed_sections": [],
   "name": "Facial_Expression_Training.ipynb",
   "provenance": [],
   "version": "0.3.2"
  },
  "kernelspec": {
   "display_name": "Python 3",
   "language": "python",
   "name": "python3"
  },
  "language_info": {
   "codemirror_mode": {
    "name": "ipython",
    "version": 3
   },
   "file_extension": ".py",
   "mimetype": "text/x-python",
   "name": "python",
   "nbconvert_exporter": "python",
   "pygments_lexer": "ipython3",
   "version": "3.7.7"
  },
  "toc": {
   "base_numbering": 1,
   "nav_menu": {},
   "number_sections": true,
   "sideBar": true,
   "skip_h1_title": false,
   "title_cell": "Table of Contents",
   "title_sidebar": "Contents",
   "toc_cell": false,
   "toc_position": {},
   "toc_section_display": true,
   "toc_window_display": false
  }
 },
 "nbformat": 4,
 "nbformat_minor": 4
}
